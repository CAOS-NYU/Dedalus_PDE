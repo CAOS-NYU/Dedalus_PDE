{
 "cells": [
  {
   "cell_type": "code",
   "execution_count": 14,
   "metadata": {},
   "outputs": [],
   "source": [
    "import sys\n",
    "import os\n",
    "import numpy as np\n",
    "import shutil"
   ]
  },
  {
   "cell_type": "code",
   "execution_count": 15,
   "metadata": {},
   "outputs": [],
   "source": [
    "output_root = '/scratch/op13/dedalus/MRBC/' \n",
    "exec_file = '/home/op13/python/dedalus/MRBC/MRBC_3D.py'"
   ]
  },
  {
   "cell_type": "code",
   "execution_count": 16,
   "metadata": {},
   "outputs": [],
   "source": [
    "param_name = 'Q0'\n",
    "#param_values = ['0.05','0.01','0.015','0.02','0.025','0.03','0.035','0.04','0.045','0.05','0.055','0.06','0.08','0.1']\n",
    "param_values = ['0.0','0.01','0.02']\n",
    "#param_values = ['0.015']"
   ]
  },
  {
   "cell_type": "code",
   "execution_count": 20,
   "metadata": {},
   "outputs": [
    {
     "name": "stdout",
     "output_type": "stream",
     "text": [
      "Lx, Ly, Lz = 8, 8, 1\n",
      "Nx, Ny, Nz = 256, 256, 32\n",
      "MRayleigh = 1e6\n",
      "M0 = 0\n",
      "D0 = 0\n",
      "MH = -1.0\n",
      "DH = 0.5\n",
      "N2 = 1.5\n",
      "Q0 = 0.00\n",
      "free_slip_upper = True\n",
      "Chi = 2.0\n",
      "compute_mesh = (16,16)\n",
      "stop_sim_time = 200.0\n",
      "\n"
     ]
    }
   ],
   "source": [
    "namelist = \\\n",
    "    \"Lx, Ly, Lz = 8, 8, 1\\n\"+\\\n",
    "    \"Nx, Ny, Nz = 256, 256, 32\\n\"+\\\n",
    "    \"MRayleigh = 1e6\\n\"+\\\n",
    "    \"M0 = 0\\n\"+\\\n",
    "    \"D0 = 0\\n\"+\\\n",
    "    \"MH = -1.0\\n\"+\\\n",
    "    \"DH = 0.5\\n\"+\\\n",
    "    \"N2 = 1.5\\n\"+\\\n",
    "    \"Q0 = 0.00\\n\"+\\\n",
    "    \"free_slip_upper = True\\n\"+\\\n",
    "    \"Chi = 2.0\\n\"+\\\n",
    "    \"compute_mesh = (16,16)\\n\"+\\\n",
    "    \"stop_sim_time = 200.0\\n\"\n",
    "exec(namelist)\n",
    "print(namelist)"
   ]
  },
  {
   "cell_type": "code",
   "execution_count": 21,
   "metadata": {},
   "outputs": [],
   "source": [
    "script_start = [  \\\n",
    "    \"#!/bin/bash\\n\",\\\n",
    "    \"#SBATCH --nodes=1\\n\",\\\n",
    "    \"#SBATCH --tasks-per-node=16\\n\",\\\n",
    "    \"#SBATCH --cpus-per-task=16\\n\",\\\n",
    "    \"#SBATCH --mem=64GB\\n\",\\\n",
    "    \"#SBATCH --time=06:00:00\\n\",\\\n",
    "    \"#SBATCH --job-name=MRBC_baro\\n\",\\\n",
    "    \"#SBATCH --mail-type=END\\n\",\\\n",
    "    \"#SBATCH --mail-user=op13@nyu.edu\\n\",\\\n",
    "    \"#SBATCH --output=MRBC_2D_slurm_%j.out\\n\",\n",
    "    \"module purge\\n\"]\n",
    "\n",
    "script_end = [ \\\n",
    "              \"srun /scratch/work/public/singularity/run-dedalus-3.0.0a0.bash python MRBC.py\"]\n"
   ]
  },
  {
   "cell_type": "code",
   "execution_count": 22,
   "metadata": {},
   "outputs": [
    {
     "name": "stdout",
     "output_type": "stream",
     "text": [
      "Jobs can be submitted to the queue by going to the directory:\n",
      "/scratch/op13/dedalus/MRBC/\n",
      "and enter the command: \n",
      "source launch_slurm.sh\n"
     ]
    }
   ],
   "source": [
    "file_launch = output_root + 'launch_slurm.sh'\n",
    "launcher = open(file_launch,'w')\n",
    "for value in param_values:\n",
    "    exec(param_name + '=' + value)\n",
    "    expname = 'MRBC_3D_MRa_'+\"{:.1e}\".format(MRayleigh) +'_N2S_'+\"{:.1e}\".format(N2) +'_Q0_'+\"{:.1e}\".format(Q0) \\\n",
    "            +  '_Lx_'+\"{:.1e}\".format(Lx) \n",
    "    exp_dir = output_root + expname\n",
    "    if (not os.path.exists(exp_dir)):\n",
    "        os.makedirs(exp_dir, exist_ok = True)\n",
    "    os.chdir(exp_dir)\n",
    "    shutil.copyfile(exec_file,exp_dir+'/MRBC.py')\n",
    "    nml_filename = 'MRBC3D_param.py'\n",
    "    nml_file = open(nml_filename, 'w')\n",
    "    nml_file.writelines(namelist)\n",
    "    nml_file.writelines(param_name + '=' + value +'\\n')\n",
    "    nml_file.close()\n",
    "    script_name = 'run_MRBC.slurm'\n",
    "    script = open(script_name,'w')\n",
    "    script.writelines(script_start)\n",
    "    script.writelines('cd '+exp_dir+'\\n')\n",
    "    script.writelines(script_end)\n",
    "    script.close()\n",
    "    launcher.writelines(\"sbatch ./\" + expname + \"/\" + script_name +'\\n')\n",
    "launcher.close()\n",
    "\n",
    "print('Jobs can be submitted to the queue by going to the directory:\\n' + output_root)\n",
    "print('and enter the command: \\nsource launch_slurm.sh')"
   ]
  },
  {
   "cell_type": "code",
   "execution_count": null,
   "metadata": {},
   "outputs": [],
   "source": []
  }
 ],
 "metadata": {
  "kernelspec": {
   "display_name": "dedalus",
   "language": "python",
   "name": "dedalus"
  },
  "language_info": {
   "codemirror_mode": {
    "name": "ipython",
    "version": 3
   },
   "file_extension": ".py",
   "mimetype": "text/x-python",
   "name": "python",
   "nbconvert_exporter": "python",
   "pygments_lexer": "ipython3",
   "version": "3.11.3"
  }
 },
 "nbformat": 4,
 "nbformat_minor": 4
}
